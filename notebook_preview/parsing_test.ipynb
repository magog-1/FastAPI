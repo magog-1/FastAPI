{
 "cells": [
  {
   "cell_type": "code",
   "execution_count": 11,
   "metadata": {},
   "outputs": [],
   "source": [
    "import requests\n",
    "from bs4 import BeautifulSoup\n",
    "import networkx as nx\n",
    "from io import BytesIO\n",
    "from urllib.parse import urljoin\n",
    "\n",
    "def crawl_website(url: str, max_depth: int):\n",
    "    visited = set()\n",
    "    graph = nx.DiGraph()\n",
    "\n",
    "    def crawl(current_url, depth):\n",
    "        if depth > max_depth or current_url in visited:\n",
    "            return\n",
    "        visited.add(current_url)\n",
    "        graph.add_node(current_url)\n",
    "        try:\n",
    "            response = requests.get(current_url, timeout=5)\n",
    "            soup = BeautifulSoup(response.text, \"html.parser\")\n",
    "            for link in soup.find_all(\"a\", href=True):\n",
    "                href = link[\"href\"]\n",
    "                # Приводим относительные ссылки к абсолютному виду\n",
    "                if href.startswith(\"/\"):\n",
    "                    href = urljoin(current_url, href)\n",
    "                # Ограничиваем парсинг только внутренними ссылками\n",
    "                if not href.startswith(url):\n",
    "                    continue\n",
    "                graph.add_edge(current_url, href)\n",
    "                crawl(href, depth + 1)\n",
    "        except Exception as e:\n",
    "            # Здесь можно добавить логирование ошибок\n",
    "            pass\n",
    "    crawl(url, 0)\n",
    "    return graph\n",
    "\n",
    "def graph_to_graphml(graph: nx.DiGraph) -> str:\n",
    "    output = BytesIO()\n",
    "    nx.write_graphml(graph, output)\n",
    "    # Декодируем бинарные данные в строку\n",
    "    return output.getvalue()\n",
    "\n",
    "def parse_website_task(url: str, max_depth: int, format: str = \"graphml\"):\n",
    "    graph = crawl_website(url, max_depth)\n",
    "    result = '-'\n",
    "    if format.lower() == \"graphml\":\n",
    "        result = graph_to_graphml(graph)\n",
    "    # Можно добавить поддержку других форматов\n",
    "    return result"
   ]
  },
  {
   "cell_type": "code",
   "execution_count": 14,
   "metadata": {},
   "outputs": [],
   "source": [
    "with open('result.xml', 'wb') as file:\n",
    "    file.write(parse_website_task(r'https://www.google.com', 2))"
   ]
  }
 ],
 "metadata": {
  "kernelspec": {
   "display_name": ".venv",
   "language": "python",
   "name": "python3"
  },
  "language_info": {
   "codemirror_mode": {
    "name": "ipython",
    "version": 3
   },
   "file_extension": ".py",
   "mimetype": "text/x-python",
   "name": "python",
   "nbconvert_exporter": "python",
   "pygments_lexer": "ipython3",
   "version": "3.11.4"
  }
 },
 "nbformat": 4,
 "nbformat_minor": 2
}
